{
  "nbformat": 4,
  "nbformat_minor": 0,
  "metadata": {
    "colab": {
      "name": "Copy of Assignment04.ipynb",
      "provenance": [],
      "include_colab_link": true
    },
    "kernelspec": {
      "name": "python3",
      "display_name": "Python 3"
    }
  },
  "cells": [
    {
      "cell_type": "markdown",
      "metadata": {
        "id": "view-in-github",
        "colab_type": "text"
      },
      "source": [
        "<a href=\"https://colab.research.google.com/github/melanieminson/data-612/blob/master/Assignment04.ipynb\" target=\"_parent\"><img src=\"https://colab.research.google.com/assets/colab-badge.svg\" alt=\"Open In Colab\"/></a>"
      ]
    },
    {
      "cell_type": "markdown",
      "metadata": {
        "id": "ieZzcgQQKck4",
        "colab_type": "text"
      },
      "source": [
        "# Assignment for Week 4      \n",
        "(Chapter 4 & 5)"
      ]
    },
    {
      "cell_type": "markdown",
      "metadata": {
        "id": "tLuHjR9xKniP",
        "colab_type": "text"
      },
      "source": [
        "## Purpose:         \n",
        "This assignment is intended to help you do the following:\n",
        "1.\tFamiliarize with merging datasets together\n",
        "2.\tLearn how to identify missing data from a dataset\n",
        "3.\tHandle the missing data from the dataset\n"
      ]
    },
    {
      "cell_type": "markdown",
      "metadata": {
        "id": "GeOmQFNKK4Nm",
        "colab_type": "text"
      },
      "source": [
        "## Action Items:\n",
        "•\tMerge other data to your selected data set.    \n",
        "1. Find another data set, series, text data or a column from another data source and merge with your selected data set.      \n",
        "2. Identify the missing values on your data set. Count the missing values on your data set and then clean your data set from the missing values.       \n",
        "3. Post your work on GitHub     \n",
        "4. Add a README\n"
      ]
    },
    {
      "cell_type": "code",
      "metadata": {
        "id": "hmfnbQTN49wi",
        "colab_type": "code",
        "colab": {
          "base_uri": "https://localhost:8080/",
          "height": 197
        },
        "outputId": "cb660d89-adb7-4924-c21a-56f466910848"
      },
      "source": [
        "import pandas as pd\n",
        "\n",
        "df1 = pd.read_csv('https://raw.githubusercontent.com/frankData612/data_612/master/baseballdatabank-master/core/AllstarFull.csv')\n",
        "df2 = pd.read_csv('https://raw.githubusercontent.com/frankData612/data_612/master/baseballdatabank-master/core/AwardsPlayers.csv')\n",
        "\n",
        "df1.head()"
      ],
      "execution_count": 12,
      "outputs": [
        {
          "output_type": "execute_result",
          "data": {
            "text/html": [
              "<div>\n",
              "<style scoped>\n",
              "    .dataframe tbody tr th:only-of-type {\n",
              "        vertical-align: middle;\n",
              "    }\n",
              "\n",
              "    .dataframe tbody tr th {\n",
              "        vertical-align: top;\n",
              "    }\n",
              "\n",
              "    .dataframe thead th {\n",
              "        text-align: right;\n",
              "    }\n",
              "</style>\n",
              "<table border=\"1\" class=\"dataframe\">\n",
              "  <thead>\n",
              "    <tr style=\"text-align: right;\">\n",
              "      <th></th>\n",
              "      <th>playerID</th>\n",
              "      <th>yearID</th>\n",
              "      <th>gameNum</th>\n",
              "      <th>gameID</th>\n",
              "      <th>teamID</th>\n",
              "      <th>lgID</th>\n",
              "      <th>GP</th>\n",
              "      <th>startingPos</th>\n",
              "    </tr>\n",
              "  </thead>\n",
              "  <tbody>\n",
              "    <tr>\n",
              "      <th>0</th>\n",
              "      <td>gomezle01</td>\n",
              "      <td>1933.0</td>\n",
              "      <td>0.0</td>\n",
              "      <td>ALS193307060</td>\n",
              "      <td>NYA</td>\n",
              "      <td>AL</td>\n",
              "      <td>1</td>\n",
              "      <td>1.0</td>\n",
              "    </tr>\n",
              "    <tr>\n",
              "      <th>1</th>\n",
              "      <td>ferreri01</td>\n",
              "      <td>1933.0</td>\n",
              "      <td>0.0</td>\n",
              "      <td>ALS193307060</td>\n",
              "      <td>BOS</td>\n",
              "      <td>AL</td>\n",
              "      <td>1</td>\n",
              "      <td>2.0</td>\n",
              "    </tr>\n",
              "    <tr>\n",
              "      <th>2</th>\n",
              "      <td>gehrilo01</td>\n",
              "      <td>1933.0</td>\n",
              "      <td>0.0</td>\n",
              "      <td>ALS193307060</td>\n",
              "      <td>NYA</td>\n",
              "      <td>AL</td>\n",
              "      <td>1</td>\n",
              "      <td>3.0</td>\n",
              "    </tr>\n",
              "    <tr>\n",
              "      <th>3</th>\n",
              "      <td>gehrich01</td>\n",
              "      <td>1933.0</td>\n",
              "      <td>0.0</td>\n",
              "      <td>ALS193307060</td>\n",
              "      <td>DET</td>\n",
              "      <td>AL</td>\n",
              "      <td>1</td>\n",
              "      <td>4.0</td>\n",
              "    </tr>\n",
              "    <tr>\n",
              "      <th>4</th>\n",
              "      <td>dykesji01</td>\n",
              "      <td>1933.0</td>\n",
              "      <td>0.0</td>\n",
              "      <td>ALS193307060</td>\n",
              "      <td>CHA</td>\n",
              "      <td>AL</td>\n",
              "      <td>1</td>\n",
              "      <td>5.0</td>\n",
              "    </tr>\n",
              "  </tbody>\n",
              "</table>\n",
              "</div>"
            ],
            "text/plain": [
              "    playerID  yearID  gameNum        gameID teamID lgID  GP  startingPos\n",
              "0  gomezle01  1933.0      0.0  ALS193307060    NYA   AL   1          1.0\n",
              "1  ferreri01  1933.0      0.0  ALS193307060    BOS   AL   1          2.0\n",
              "2  gehrilo01  1933.0      0.0  ALS193307060    NYA   AL   1          3.0\n",
              "3  gehrich01  1933.0      0.0  ALS193307060    DET   AL   1          4.0\n",
              "4  dykesji01  1933.0      0.0  ALS193307060    CHA   AL   1          5.0"
            ]
          },
          "metadata": {
            "tags": []
          },
          "execution_count": 12
        }
      ]
    },
    {
      "cell_type": "code",
      "metadata": {
        "id": "fX6utZf-92u6",
        "colab_type": "code",
        "colab": {
          "base_uri": "https://localhost:8080/",
          "height": 197
        },
        "outputId": "a356571f-0415-4317-f024-aeab931bdb57"
      },
      "source": [
        "df2.head()"
      ],
      "execution_count": 13,
      "outputs": [
        {
          "output_type": "execute_result",
          "data": {
            "text/html": [
              "<div>\n",
              "<style scoped>\n",
              "    .dataframe tbody tr th:only-of-type {\n",
              "        vertical-align: middle;\n",
              "    }\n",
              "\n",
              "    .dataframe tbody tr th {\n",
              "        vertical-align: top;\n",
              "    }\n",
              "\n",
              "    .dataframe thead th {\n",
              "        text-align: right;\n",
              "    }\n",
              "</style>\n",
              "<table border=\"1\" class=\"dataframe\">\n",
              "  <thead>\n",
              "    <tr style=\"text-align: right;\">\n",
              "      <th></th>\n",
              "      <th>playerID</th>\n",
              "      <th>awardID</th>\n",
              "      <th>yearID</th>\n",
              "      <th>lgID</th>\n",
              "      <th>tie</th>\n",
              "      <th>notes</th>\n",
              "    </tr>\n",
              "  </thead>\n",
              "  <tbody>\n",
              "    <tr>\n",
              "      <th>0</th>\n",
              "      <td>bondto01</td>\n",
              "      <td>Pitching Triple Crown</td>\n",
              "      <td>1877</td>\n",
              "      <td>NL</td>\n",
              "      <td>NaN</td>\n",
              "      <td>NaN</td>\n",
              "    </tr>\n",
              "    <tr>\n",
              "      <th>1</th>\n",
              "      <td>hinespa01</td>\n",
              "      <td>Triple Crown</td>\n",
              "      <td>1878</td>\n",
              "      <td>NL</td>\n",
              "      <td>NaN</td>\n",
              "      <td>NaN</td>\n",
              "    </tr>\n",
              "    <tr>\n",
              "      <th>2</th>\n",
              "      <td>heckegu01</td>\n",
              "      <td>Pitching Triple Crown</td>\n",
              "      <td>1884</td>\n",
              "      <td>AA</td>\n",
              "      <td>NaN</td>\n",
              "      <td>NaN</td>\n",
              "    </tr>\n",
              "    <tr>\n",
              "      <th>3</th>\n",
              "      <td>radboch01</td>\n",
              "      <td>Pitching Triple Crown</td>\n",
              "      <td>1884</td>\n",
              "      <td>NL</td>\n",
              "      <td>NaN</td>\n",
              "      <td>NaN</td>\n",
              "    </tr>\n",
              "    <tr>\n",
              "      <th>4</th>\n",
              "      <td>oneilti01</td>\n",
              "      <td>Triple Crown</td>\n",
              "      <td>1887</td>\n",
              "      <td>AA</td>\n",
              "      <td>NaN</td>\n",
              "      <td>NaN</td>\n",
              "    </tr>\n",
              "  </tbody>\n",
              "</table>\n",
              "</div>"
            ],
            "text/plain": [
              "    playerID                awardID  yearID lgID  tie notes\n",
              "0   bondto01  Pitching Triple Crown    1877   NL  NaN   NaN\n",
              "1  hinespa01           Triple Crown    1878   NL  NaN   NaN\n",
              "2  heckegu01  Pitching Triple Crown    1884   AA  NaN   NaN\n",
              "3  radboch01  Pitching Triple Crown    1884   NL  NaN   NaN\n",
              "4  oneilti01           Triple Crown    1887   AA  NaN   NaN"
            ]
          },
          "metadata": {
            "tags": []
          },
          "execution_count": 13
        }
      ]
    },
    {
      "cell_type": "code",
      "metadata": {
        "id": "JpSEPcHg95S-",
        "colab_type": "code",
        "colab": {
          "base_uri": "https://localhost:8080/",
          "height": 265
        },
        "outputId": "49261ae3-36e5-456c-80db-24b0cf1ba567"
      },
      "source": [
        "concat = pd.concat([df1, df2], axis=1, join='inner')\n",
        "\n",
        "print(concat)"
      ],
      "execution_count": 14,
      "outputs": [
        {
          "output_type": "stream",
          "text": [
            "       playerID  yearID  gameNum        gameID  ... yearID lgID  tie  notes\n",
            "0     gomezle01  1933.0      0.0  ALS193307060  ...   1877   NL  NaN    NaN\n",
            "1     ferreri01  1933.0      0.0  ALS193307060  ...   1878   NL  NaN    NaN\n",
            "2     gehrilo01  1933.0      0.0  ALS193307060  ...   1884   AA  NaN    NaN\n",
            "3     gehrich01  1933.0      0.0  ALS193307060  ...   1884   NL  NaN    NaN\n",
            "4     dykesji01  1933.0      0.0  ALS193307060  ...   1887   AA  NaN    NaN\n",
            "...         ...     ...      ...           ...  ...    ...  ...  ...    ...\n",
            "5370  sorokmi01  2019.0      0.0  ALS201907090  ...   2005   NL  NaN    NaN\n",
            "5371  storytr01  2019.0      0.0  ALS201907090  ...   2005   AL  NaN     1B\n",
            "5372  woodrbr01  2019.0      0.0  ALS201907090  ...   2005   AL  NaN     2B\n",
            "5373  yateski01  2019.0      0.0  ALS201907090  ...   2005   AL  NaN     3B\n",
            "5374  bailean01     NaN      NaN           NaN  ...   2005   AL  NaN      C\n",
            "\n",
            "[5375 rows x 14 columns]\n"
          ],
          "name": "stdout"
        }
      ]
    },
    {
      "cell_type": "code",
      "metadata": {
        "id": "BXMH-XRBD0yC",
        "colab_type": "code",
        "colab": {
          "base_uri": "https://localhost:8080/",
          "height": 283
        },
        "outputId": "d8a912e5-c5a4-48ca-d782-19c6c88a2a2f"
      },
      "source": [
        "concat.isna().sum()"
      ],
      "execution_count": 15,
      "outputs": [
        {
          "output_type": "execute_result",
          "data": {
            "text/plain": [
              "playerID          0\n",
              "yearID            1\n",
              "gameNum           1\n",
              "gameID           50\n",
              "teamID            0\n",
              "lgID              0\n",
              "GP                0\n",
              "startingPos    3684\n",
              "playerID          0\n",
              "awardID           0\n",
              "yearID            0\n",
              "lgID              0\n",
              "tie            5336\n",
              "notes          1186\n",
              "dtype: int64"
            ]
          },
          "metadata": {
            "tags": []
          },
          "execution_count": 15
        }
      ]
    },
    {
      "cell_type": "code",
      "metadata": {
        "id": "TixlCa8aF66s",
        "colab_type": "code",
        "colab": {}
      },
      "source": [
        "# I am choosing now to drop the startingPos, tie, and notes columns. They hold a considerable amount of null values and do not add value to analysis. \n",
        "\n",
        "concat1 = concat.drop(['startingPos','tie','notes'], axis=1)"
      ],
      "execution_count": 0,
      "outputs": []
    },
    {
      "cell_type": "code",
      "metadata": {
        "id": "zC7cye_HI2E1",
        "colab_type": "code",
        "colab": {
          "base_uri": "https://localhost:8080/",
          "height": 230
        },
        "outputId": "3d9aea37-8fd2-4484-e40f-374120e1676c"
      },
      "source": [
        "concat1.isna().sum()"
      ],
      "execution_count": 19,
      "outputs": [
        {
          "output_type": "execute_result",
          "data": {
            "text/plain": [
              "playerID     0\n",
              "yearID       1\n",
              "gameNum      1\n",
              "gameID      50\n",
              "teamID       0\n",
              "lgID         0\n",
              "GP           0\n",
              "playerID     0\n",
              "awardID      0\n",
              "yearID       0\n",
              "lgID         0\n",
              "dtype: int64"
            ]
          },
          "metadata": {
            "tags": []
          },
          "execution_count": 19
        }
      ]
    },
    {
      "cell_type": "code",
      "metadata": {
        "id": "VcMizJawJAM-",
        "colab_type": "code",
        "colab": {
          "base_uri": "https://localhost:8080/",
          "height": 230
        },
        "outputId": "8c181fff-2cf6-4535-c153-6446fb3419e9"
      },
      "source": [
        "# I am now choosing to remove rows with NaN values. As there are only 50 lines that will be dropped and thousands of lines remaining, \n",
        "# I believe this will add the most value to data analysis.\n",
        "\n",
        "concat2 = concat1.dropna()\n",
        "\n",
        "concat2.isna().sum()"
      ],
      "execution_count": 22,
      "outputs": [
        {
          "output_type": "execute_result",
          "data": {
            "text/plain": [
              "playerID    0\n",
              "yearID      0\n",
              "gameNum     0\n",
              "gameID      0\n",
              "teamID      0\n",
              "lgID        0\n",
              "GP          0\n",
              "playerID    0\n",
              "awardID     0\n",
              "yearID      0\n",
              "lgID        0\n",
              "dtype: int64"
            ]
          },
          "metadata": {
            "tags": []
          },
          "execution_count": 22
        }
      ]
    }
  ]
}