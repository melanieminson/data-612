{
  "nbformat": 4,
  "nbformat_minor": 0,
  "metadata": {
    "colab": {
      "name": "Assignment02.ipynb",
      "provenance": [],
      "collapsed_sections": [],
      "include_colab_link": true
    },
    "kernelspec": {
      "name": "python3",
      "display_name": "Python 3"
    }
  },
  "cells": [
    {
      "cell_type": "markdown",
      "metadata": {
        "id": "view-in-github",
        "colab_type": "text"
      },
      "source": [
        "<a href=\"https://colab.research.google.com/github/melanieminson/data-612/blob/master/Assignment02.ipynb\" target=\"_parent\"><img src=\"https://colab.research.google.com/assets/colab-badge.svg\" alt=\"Open In Colab\"/></a>"
      ]
    },
    {
      "cell_type": "markdown",
      "metadata": {
        "id": "qTVw3jQgGaWL",
        "colab_type": "text"
      },
      "source": [
        "# Assignment for Week 2"
      ]
    },
    {
      "cell_type": "markdown",
      "metadata": {
        "id": "nXTJBBaqGnqN",
        "colab_type": "text"
      },
      "source": [
        "## Purpose:     \n",
        "This assignment is intended to help you do the following:   \n",
        "1.\tModify and add information on the dataset by adding and calculating new columns     \n",
        "2.\tWork with dates in a dataset       \n",
        "3.\tLearn how to write and save your work as a csv file from Jupyter Notebook.       \n"
      ]
    },
    {
      "cell_type": "markdown",
      "metadata": {
        "id": "KBQPWLNtHJuG",
        "colab_type": "text"
      },
      "source": [
        "## Action Items:       \n",
        "•\tCreate a new column using the date column.     \n",
        "  1. Find the maximum date of your data.     \n",
        "  2. Subtract all the dates on the column from the maximum date.       \n",
        "  3. Convert the number of days into number of months.       \n",
        "  4. Save the result on a new column and add to the data set.        \n",
        "  5. Save the dataset as a csv file.        \n",
        "  6. Upload the assignment on your GitHub account and Update the README file where you explain everything you did.      "
      ]
    },
    {
      "cell_type": "markdown",
      "metadata": {
        "id": "k1ak28hEXXdV",
        "colab_type": "text"
      },
      "source": [
        "Below, I imported the HomeGames.csv file instead of the AllstarFull.csv file as I did in my first assignment because it had dates instead of years for date data."
      ]
    },
    {
      "cell_type": "code",
      "metadata": {
        "id": "kGGoRBhCLYxp",
        "colab_type": "code",
        "colab": {}
      },
      "source": [
        "import pandas as pd\n",
        "\n",
        "df = pd.read_csv('https://raw.githubusercontent.com/frankData612/data_612/master/baseballdatabank-master/core/HomeGames.csv')"
      ],
      "execution_count": 0,
      "outputs": []
    },
    {
      "cell_type": "markdown",
      "metadata": {
        "id": "Kac_hI_tTV8p",
        "colab_type": "text"
      },
      "source": [
        "1. Below, I found the maximum date of my data by using the max function to locate the latest date in the span.last column."
      ]
    },
    {
      "cell_type": "code",
      "metadata": {
        "id": "Uj7dGDaOR8gQ",
        "colab_type": "code",
        "colab": {
          "base_uri": "https://localhost:8080/",
          "height": 34
        },
        "outputId": "3736f7bc-5d0a-4c93-ac9d-ab1145399697"
      },
      "source": [
        "enddates = df['span.last']\n",
        "\n",
        "max(enddates)"
      ],
      "execution_count": 24,
      "outputs": [
        {
          "output_type": "execute_result",
          "data": {
            "text/plain": [
              "'2019-09-29'"
            ]
          },
          "metadata": {
            "tags": []
          },
          "execution_count": 24
        }
      ]
    },
    {
      "cell_type": "markdown",
      "metadata": {
        "id": "HTMjkjy3TjEr",
        "colab_type": "text"
      },
      "source": [
        "2. Below, I converted the span.last column to YYYY-MM-DD format and subtracted the dates from the maximum date in the converted span.last column."
      ]
    },
    {
      "cell_type": "code",
      "metadata": {
        "id": "eyOVvqKSSSt1",
        "colab_type": "code",
        "colab": {
          "base_uri": "https://localhost:8080/",
          "height": 197
        },
        "outputId": "bf7e7f3f-8186-412e-ceb4-1217ef65121f"
      },
      "source": [
        "df['sldates'] = pd.to_datetime(df['span.last'], format='%Y-%m-%d')\n",
        "\n",
        "df['subdates'] = max(df['sldates']) - df['sldates']\n",
        "\n",
        "df.head()"
      ],
      "execution_count": 25,
      "outputs": [
        {
          "output_type": "execute_result",
          "data": {
            "text/html": [
              "<div>\n",
              "<style scoped>\n",
              "    .dataframe tbody tr th:only-of-type {\n",
              "        vertical-align: middle;\n",
              "    }\n",
              "\n",
              "    .dataframe tbody tr th {\n",
              "        vertical-align: top;\n",
              "    }\n",
              "\n",
              "    .dataframe thead th {\n",
              "        text-align: right;\n",
              "    }\n",
              "</style>\n",
              "<table border=\"1\" class=\"dataframe\">\n",
              "  <thead>\n",
              "    <tr style=\"text-align: right;\">\n",
              "      <th></th>\n",
              "      <th>year.key</th>\n",
              "      <th>league.key</th>\n",
              "      <th>team.key</th>\n",
              "      <th>park.key</th>\n",
              "      <th>span.first</th>\n",
              "      <th>span.last</th>\n",
              "      <th>games</th>\n",
              "      <th>openings</th>\n",
              "      <th>attendance</th>\n",
              "      <th>sldates</th>\n",
              "      <th>subdates</th>\n",
              "    </tr>\n",
              "  </thead>\n",
              "  <tbody>\n",
              "    <tr>\n",
              "      <th>0</th>\n",
              "      <td>1871</td>\n",
              "      <td>NaN</td>\n",
              "      <td>BS1</td>\n",
              "      <td>BOS01</td>\n",
              "      <td>1871-05-16</td>\n",
              "      <td>1871-10-07</td>\n",
              "      <td>16</td>\n",
              "      <td>16</td>\n",
              "      <td>32600</td>\n",
              "      <td>1871-10-07</td>\n",
              "      <td>54048 days</td>\n",
              "    </tr>\n",
              "    <tr>\n",
              "      <th>1</th>\n",
              "      <td>1871</td>\n",
              "      <td>NaN</td>\n",
              "      <td>BS1</td>\n",
              "      <td>NYC01</td>\n",
              "      <td>1871-05-27</td>\n",
              "      <td>1871-05-27</td>\n",
              "      <td>1</td>\n",
              "      <td>1</td>\n",
              "      <td>3000</td>\n",
              "      <td>1871-05-27</td>\n",
              "      <td>54181 days</td>\n",
              "    </tr>\n",
              "    <tr>\n",
              "      <th>2</th>\n",
              "      <td>1871</td>\n",
              "      <td>NaN</td>\n",
              "      <td>CH1</td>\n",
              "      <td>CHI01</td>\n",
              "      <td>1871-05-08</td>\n",
              "      <td>1871-09-29</td>\n",
              "      <td>16</td>\n",
              "      <td>15</td>\n",
              "      <td>85500</td>\n",
              "      <td>1871-09-29</td>\n",
              "      <td>54056 days</td>\n",
              "    </tr>\n",
              "    <tr>\n",
              "      <th>3</th>\n",
              "      <td>1871</td>\n",
              "      <td>NaN</td>\n",
              "      <td>CH1</td>\n",
              "      <td>NYC01</td>\n",
              "      <td>1871-10-30</td>\n",
              "      <td>1871-10-30</td>\n",
              "      <td>1</td>\n",
              "      <td>1</td>\n",
              "      <td>600</td>\n",
              "      <td>1871-10-30</td>\n",
              "      <td>54025 days</td>\n",
              "    </tr>\n",
              "    <tr>\n",
              "      <th>4</th>\n",
              "      <td>1871</td>\n",
              "      <td>NaN</td>\n",
              "      <td>CL1</td>\n",
              "      <td>CIN01</td>\n",
              "      <td>1871-05-13</td>\n",
              "      <td>1871-07-22</td>\n",
              "      <td>2</td>\n",
              "      <td>2</td>\n",
              "      <td>2200</td>\n",
              "      <td>1871-07-22</td>\n",
              "      <td>54125 days</td>\n",
              "    </tr>\n",
              "  </tbody>\n",
              "</table>\n",
              "</div>"
            ],
            "text/plain": [
              "   year.key league.key team.key  ... attendance    sldates   subdates\n",
              "0      1871        NaN      BS1  ...      32600 1871-10-07 54048 days\n",
              "1      1871        NaN      BS1  ...       3000 1871-05-27 54181 days\n",
              "2      1871        NaN      CH1  ...      85500 1871-09-29 54056 days\n",
              "3      1871        NaN      CH1  ...        600 1871-10-30 54025 days\n",
              "4      1871        NaN      CL1  ...       2200 1871-07-22 54125 days\n",
              "\n",
              "[5 rows x 11 columns]"
            ]
          },
          "metadata": {
            "tags": []
          },
          "execution_count": 25
        }
      ]
    },
    {
      "cell_type": "markdown",
      "metadata": {
        "id": "QfkZWOKhV7_F",
        "colab_type": "text"
      },
      "source": [
        "3. Below, I imported numpy and converted the new \"subdates\" column from a count of days to a count of months."
      ]
    },
    {
      "cell_type": "code",
      "metadata": {
        "id": "6bRMMNHYVv_M",
        "colab_type": "code",
        "colab": {
          "base_uri": "https://localhost:8080/",
          "height": 197
        },
        "outputId": "34507d3e-f994-497d-ea7f-d199cedad093"
      },
      "source": [
        "import numpy as np \n",
        "\n",
        "df['subdates']=df['subdates']/np.timedelta64(1,'M')\n",
        "\n",
        "df.head()"
      ],
      "execution_count": 26,
      "outputs": [
        {
          "output_type": "execute_result",
          "data": {
            "text/html": [
              "<div>\n",
              "<style scoped>\n",
              "    .dataframe tbody tr th:only-of-type {\n",
              "        vertical-align: middle;\n",
              "    }\n",
              "\n",
              "    .dataframe tbody tr th {\n",
              "        vertical-align: top;\n",
              "    }\n",
              "\n",
              "    .dataframe thead th {\n",
              "        text-align: right;\n",
              "    }\n",
              "</style>\n",
              "<table border=\"1\" class=\"dataframe\">\n",
              "  <thead>\n",
              "    <tr style=\"text-align: right;\">\n",
              "      <th></th>\n",
              "      <th>year.key</th>\n",
              "      <th>league.key</th>\n",
              "      <th>team.key</th>\n",
              "      <th>park.key</th>\n",
              "      <th>span.first</th>\n",
              "      <th>span.last</th>\n",
              "      <th>games</th>\n",
              "      <th>openings</th>\n",
              "      <th>attendance</th>\n",
              "      <th>sldates</th>\n",
              "      <th>subdates</th>\n",
              "    </tr>\n",
              "  </thead>\n",
              "  <tbody>\n",
              "    <tr>\n",
              "      <th>0</th>\n",
              "      <td>1871</td>\n",
              "      <td>NaN</td>\n",
              "      <td>BS1</td>\n",
              "      <td>BOS01</td>\n",
              "      <td>1871-05-16</td>\n",
              "      <td>1871-10-07</td>\n",
              "      <td>16</td>\n",
              "      <td>16</td>\n",
              "      <td>32600</td>\n",
              "      <td>1871-10-07</td>\n",
              "      <td>1775.740775</td>\n",
              "    </tr>\n",
              "    <tr>\n",
              "      <th>1</th>\n",
              "      <td>1871</td>\n",
              "      <td>NaN</td>\n",
              "      <td>BS1</td>\n",
              "      <td>NYC01</td>\n",
              "      <td>1871-05-27</td>\n",
              "      <td>1871-05-27</td>\n",
              "      <td>1</td>\n",
              "      <td>1</td>\n",
              "      <td>3000</td>\n",
              "      <td>1871-05-27</td>\n",
              "      <td>1780.110475</td>\n",
              "    </tr>\n",
              "    <tr>\n",
              "      <th>2</th>\n",
              "      <td>1871</td>\n",
              "      <td>NaN</td>\n",
              "      <td>CH1</td>\n",
              "      <td>CHI01</td>\n",
              "      <td>1871-05-08</td>\n",
              "      <td>1871-09-29</td>\n",
              "      <td>16</td>\n",
              "      <td>15</td>\n",
              "      <td>85500</td>\n",
              "      <td>1871-09-29</td>\n",
              "      <td>1776.003614</td>\n",
              "    </tr>\n",
              "    <tr>\n",
              "      <th>3</th>\n",
              "      <td>1871</td>\n",
              "      <td>NaN</td>\n",
              "      <td>CH1</td>\n",
              "      <td>NYC01</td>\n",
              "      <td>1871-10-30</td>\n",
              "      <td>1871-10-30</td>\n",
              "      <td>1</td>\n",
              "      <td>1</td>\n",
              "      <td>600</td>\n",
              "      <td>1871-10-30</td>\n",
              "      <td>1774.985113</td>\n",
              "    </tr>\n",
              "    <tr>\n",
              "      <th>4</th>\n",
              "      <td>1871</td>\n",
              "      <td>NaN</td>\n",
              "      <td>CL1</td>\n",
              "      <td>CIN01</td>\n",
              "      <td>1871-05-13</td>\n",
              "      <td>1871-07-22</td>\n",
              "      <td>2</td>\n",
              "      <td>2</td>\n",
              "      <td>2200</td>\n",
              "      <td>1871-07-22</td>\n",
              "      <td>1778.270601</td>\n",
              "    </tr>\n",
              "  </tbody>\n",
              "</table>\n",
              "</div>"
            ],
            "text/plain": [
              "   year.key league.key team.key  ... attendance    sldates     subdates\n",
              "0      1871        NaN      BS1  ...      32600 1871-10-07  1775.740775\n",
              "1      1871        NaN      BS1  ...       3000 1871-05-27  1780.110475\n",
              "2      1871        NaN      CH1  ...      85500 1871-09-29  1776.003614\n",
              "3      1871        NaN      CH1  ...        600 1871-10-30  1774.985113\n",
              "4      1871        NaN      CL1  ...       2200 1871-07-22  1778.270601\n",
              "\n",
              "[5 rows x 11 columns]"
            ]
          },
          "metadata": {
            "tags": []
          },
          "execution_count": 26
        }
      ]
    },
    {
      "cell_type": "markdown",
      "metadata": {
        "id": "BiSgbz7EWHln",
        "colab_type": "text"
      },
      "source": [
        "4. Throughout the assignment, I had already created and saved the new column with this updated different in months.\n",
        "\n",
        "5. Below, I saved the updated dataframe as a csv file."
      ]
    },
    {
      "cell_type": "code",
      "metadata": {
        "id": "e8Rbx__NWJF_",
        "colab_type": "code",
        "colab": {}
      },
      "source": [
        "df.to_csv('updatedHomeGames.csv')"
      ],
      "execution_count": 0,
      "outputs": []
    }
  ]
}