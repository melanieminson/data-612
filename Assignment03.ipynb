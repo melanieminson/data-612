{
  "nbformat": 4,
  "nbformat_minor": 0,
  "metadata": {
    "colab": {
      "name": "Copy of Assignment03.ipynb",
      "provenance": [],
      "collapsed_sections": [],
      "include_colab_link": true
    },
    "kernelspec": {
      "name": "python3",
      "display_name": "Python 3"
    }
  },
  "cells": [
    {
      "cell_type": "markdown",
      "metadata": {
        "id": "view-in-github",
        "colab_type": "text"
      },
      "source": [
        "<a href=\"https://colab.research.google.com/github/melanieminson/data-612/blob/master/Assignment03.ipynb\" target=\"_parent\"><img src=\"https://colab.research.google.com/assets/colab-badge.svg\" alt=\"Open In Colab\"/></a>"
      ]
    },
    {
      "cell_type": "markdown",
      "metadata": {
        "id": "69a5oj6QD5sZ",
        "colab_type": "text"
      },
      "source": [
        "# Assignment for Week 3"
      ]
    },
    {
      "cell_type": "markdown",
      "metadata": {
        "id": "8IZXIH6-D9Qj",
        "colab_type": "text"
      },
      "source": [
        "## Purpose:\n",
        "This assignment is intended to help you do the following:\n",
        "1.\tBecome familiar with the Seaborn package\n",
        "2.\tLearn to visualize data using Seaborn\n",
        "3.\tDistinguish between various charts and when to utilize them\n"
      ]
    },
    {
      "cell_type": "markdown",
      "metadata": {
        "id": "Yg7ArX6SEtQ6",
        "colab_type": "text"
      },
      "source": [
        "## Action Items:\n",
        "•\tCreate three different charts using Seaborn package.   \n",
        "  1. Create three different meaningful charts using Seaborn package on your selected data set.      \n",
        "  2. Explain when it is best to use      \n",
        "  3. Post your work in GitHub     \n",
        "  4. Add a README file     \n"
      ]
    },
    {
      "cell_type": "code",
      "metadata": {
        "id": "SUHejq5WDhZA",
        "colab_type": "code",
        "outputId": "04049dc4-ca86-4691-c210-8ad3a583355b",
        "colab": {
          "base_uri": "https://localhost:8080/",
          "height": 197
        }
      },
      "source": [
        "import pandas as pd\n",
        "import seaborn as sns \n",
        "import matplotlib.pyplot as plt\n",
        "\n",
        "df = pd.read_csv('https://raw.githubusercontent.com/frankData612/data_612/master/baseballdatabank-master/core/AwardsPlayers.csv')\n",
        "\n",
        "df.head()"
      ],
      "execution_count": 7,
      "outputs": [
        {
          "output_type": "execute_result",
          "data": {
            "text/html": [
              "<div>\n",
              "<style scoped>\n",
              "    .dataframe tbody tr th:only-of-type {\n",
              "        vertical-align: middle;\n",
              "    }\n",
              "\n",
              "    .dataframe tbody tr th {\n",
              "        vertical-align: top;\n",
              "    }\n",
              "\n",
              "    .dataframe thead th {\n",
              "        text-align: right;\n",
              "    }\n",
              "</style>\n",
              "<table border=\"1\" class=\"dataframe\">\n",
              "  <thead>\n",
              "    <tr style=\"text-align: right;\">\n",
              "      <th></th>\n",
              "      <th>playerID</th>\n",
              "      <th>awardID</th>\n",
              "      <th>yearID</th>\n",
              "      <th>lgID</th>\n",
              "      <th>tie</th>\n",
              "      <th>notes</th>\n",
              "    </tr>\n",
              "  </thead>\n",
              "  <tbody>\n",
              "    <tr>\n",
              "      <th>0</th>\n",
              "      <td>bondto01</td>\n",
              "      <td>Pitching Triple Crown</td>\n",
              "      <td>1877</td>\n",
              "      <td>NL</td>\n",
              "      <td>NaN</td>\n",
              "      <td>NaN</td>\n",
              "    </tr>\n",
              "    <tr>\n",
              "      <th>1</th>\n",
              "      <td>hinespa01</td>\n",
              "      <td>Triple Crown</td>\n",
              "      <td>1878</td>\n",
              "      <td>NL</td>\n",
              "      <td>NaN</td>\n",
              "      <td>NaN</td>\n",
              "    </tr>\n",
              "    <tr>\n",
              "      <th>2</th>\n",
              "      <td>heckegu01</td>\n",
              "      <td>Pitching Triple Crown</td>\n",
              "      <td>1884</td>\n",
              "      <td>AA</td>\n",
              "      <td>NaN</td>\n",
              "      <td>NaN</td>\n",
              "    </tr>\n",
              "    <tr>\n",
              "      <th>3</th>\n",
              "      <td>radboch01</td>\n",
              "      <td>Pitching Triple Crown</td>\n",
              "      <td>1884</td>\n",
              "      <td>NL</td>\n",
              "      <td>NaN</td>\n",
              "      <td>NaN</td>\n",
              "    </tr>\n",
              "    <tr>\n",
              "      <th>4</th>\n",
              "      <td>oneilti01</td>\n",
              "      <td>Triple Crown</td>\n",
              "      <td>1887</td>\n",
              "      <td>AA</td>\n",
              "      <td>NaN</td>\n",
              "      <td>NaN</td>\n",
              "    </tr>\n",
              "  </tbody>\n",
              "</table>\n",
              "</div>"
            ],
            "text/plain": [
              "    playerID                awardID  yearID lgID  tie notes\n",
              "0   bondto01  Pitching Triple Crown    1877   NL  NaN   NaN\n",
              "1  hinespa01           Triple Crown    1878   NL  NaN   NaN\n",
              "2  heckegu01  Pitching Triple Crown    1884   AA  NaN   NaN\n",
              "3  radboch01  Pitching Triple Crown    1884   NL  NaN   NaN\n",
              "4  oneilti01           Triple Crown    1887   AA  NaN   NaN"
            ]
          },
          "metadata": {
            "tags": []
          },
          "execution_count": 7
        }
      ]
    },
    {
      "cell_type": "code",
      "metadata": {
        "id": "LUKl0o7ZxrVS",
        "colab_type": "code",
        "colab": {
          "base_uri": "https://localhost:8080/",
          "height": 294
        },
        "outputId": "e0a407fe-519b-4603-faac-bb9d7eb63267"
      },
      "source": [
        "hist, ax = plt.subplots()\n",
        "\n",
        "ax = sns.distplot(df['yearID'])\n",
        "\n",
        "ax.set_title('Number of Awards by Year')\n",
        "\n",
        "plt.show()"
      ],
      "execution_count": 8,
      "outputs": [
        {
          "output_type": "display_data",
          "data": {
            "image/png": "[encoded data removed]",
            "text/plain": [
              "<Figure size 432x288 with 1 Axes>"
            ]
          },
          "metadata": {
            "tags": [],
            "needs_background": "light"
          }
        }
      ]
    },
    {
      "cell_type": "code",
      "metadata": {
        "id": "SXKbEXqcyCjv",
        "colab_type": "code",
        "colab": {
          "base_uri": "https://localhost:8080/",
          "height": 294
        },
        "outputId": "7a08ae81-a94c-42d3-e737-842d6e1e7de7"
      },
      "source": [
        "count, ax = plt.subplots()\n",
        "\n",
        "ax = sns.countplot('lgID', data=df)\n",
        "\n",
        "ax.set_title('Count of Awards by League')\n",
        "\n",
        "ax.set_xlabel('League')\n",
        "\n",
        "ax.set_ylabel('Frequency')\n",
        "\n",
        "plt.show()"
      ],
      "execution_count": 9,
      "outputs": [
        {
          "output_type": "display_data",
          "data": {
            "image/png": "[encoded data removed]",
            "text/plain": [
              "<Figure size 432x288 with 1 Axes>"
            ]
          },
          "metadata": {
            "tags": [],
            "needs_background": "light"
          }
        }
      ]
    },
    {
      "cell_type": "code",
      "metadata": {
        "id": "uIE5337L5kvQ",
        "colab_type": "code",
        "colab": {
          "base_uri": "https://localhost:8080/",
          "height": 294
        },
        "outputId": "84c3aeac-385d-47b0-fbc9-966bf854f84d"
      },
      "source": [
        "violin, ax = plt.subplots()\n",
        "\n",
        "ax = sns.violinplot(x='lgID', y='yearID', data=df)\n",
        "\n",
        "ax.set_title('Violin plot of total bill by time of day')\n",
        "\n",
        "ax.set_xlabel('League')\n",
        "\n",
        "ax.set_ylabel('Year')\n",
        "\n",
        "plt.show()"
      ],
      "execution_count": 10,
      "outputs": [
        {
          "output_type": "display_data",
          "data": {
            "image/png": "[encoded data removed]",
            "text/plain": [
              "<Figure size 432x288 with 1 Axes>"
            ]
          },
          "metadata": {
            "tags": [],
            "needs_background": "light"
          }
        }
      ]
    }
  ]
}