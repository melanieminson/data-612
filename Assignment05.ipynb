{
  "nbformat": 4,
  "nbformat_minor": 0,
  "metadata": {
    "colab": {
      "name": "Copy of Assignment05.ipynb",
      "provenance": [],
      "collapsed_sections": [],
      "include_colab_link": true
    },
    "kernelspec": {
      "name": "python3",
      "display_name": "Python 3"
    }
  },
  "cells": [
    {
      "cell_type": "markdown",
      "metadata": {
        "id": "view-in-github",
        "colab_type": "text"
      },
      "source": [
        "<a href=\"https://colab.research.google.com/github/melanieminson/data-612/blob/master/Assignment05.ipynb\" target=\"_parent\"><img src=\"https://colab.research.google.com/assets/colab-badge.svg\" alt=\"Open In Colab\"/></a>"
      ]
    },
    {
      "cell_type": "markdown",
      "metadata": {
        "id": "PVPwSURJLrm5",
        "colab_type": "text"
      },
      "source": [
        "# Assignment for Week 5      \n",
        "(Chapter 6 & 7)"
      ]
    },
    {
      "cell_type": "markdown",
      "metadata": {
        "colab_type": "text",
        "id": "oxOFlqNrMDvt"
      },
      "source": [
        "## Purpose:\n",
        "This assignment is intended to help you do the following:       \n",
        "1.\tDifferentiate between categorical and non-categorical variables\n",
        "2.\tConvert variables from one type to another\n",
        "3.\tFamiliarize with strings\n"
      ]
    },
    {
      "cell_type": "markdown",
      "metadata": {
        "id": "rzBeh3W4MEzh",
        "colab_type": "text"
      },
      "source": [
        "## Action Items:      \n",
        "•\tConvert data\n",
        "1. Work on your selected data set and covert a column of non-categorical type into a categorical type. \n",
        "2. Convert another column into a string type. \n",
        "3. Post your work on GitHub\n",
        "4. Add a README file\n"
      ]
    },
    {
      "cell_type": "code",
      "metadata": {
        "id": "MS6bUSK-mbyq",
        "colab_type": "code",
        "colab": {
          "base_uri": "https://localhost:8080/",
          "height": 194
        },
        "outputId": "7983dc4c-89e9-4e1e-edb6-b8c2853a4a04"
      },
      "source": [
        "import pandas as pd\n",
        "\n",
        "df = pd.read_csv('https://raw.githubusercontent.com/frankData612/data_612/master/baseballdatabank-master/core/HallOfFame.csv')\n",
        "\n",
        "df.dtypes"
      ],
      "execution_count": 6,
      "outputs": [
        {
          "output_type": "execute_result",
          "data": {
            "text/plain": [
              "playerID        object\n",
              "yearID           int64\n",
              "votedBy         object\n",
              "ballots        float64\n",
              "needed         float64\n",
              "votes          float64\n",
              "inducted        object\n",
              "category        object\n",
              "needed_note     object\n",
              "dtype: object"
            ]
          },
          "metadata": {
            "tags": []
          },
          "execution_count": 6
        }
      ]
    },
    {
      "cell_type": "code",
      "metadata": {
        "id": "mitsuIgAn7ad",
        "colab_type": "code",
        "colab": {
          "base_uri": "https://localhost:8080/",
          "height": 197
        },
        "outputId": "73f2e6ba-77fb-4997-a56f-9c48e83d22e5"
      },
      "source": [
        "df.head()"
      ],
      "execution_count": 7,
      "outputs": [
        {
          "output_type": "execute_result",
          "data": {
            "text/html": [
              "<div>\n",
              "<style scoped>\n",
              "    .dataframe tbody tr th:only-of-type {\n",
              "        vertical-align: middle;\n",
              "    }\n",
              "\n",
              "    .dataframe tbody tr th {\n",
              "        vertical-align: top;\n",
              "    }\n",
              "\n",
              "    .dataframe thead th {\n",
              "        text-align: right;\n",
              "    }\n",
              "</style>\n",
              "<table border=\"1\" class=\"dataframe\">\n",
              "  <thead>\n",
              "    <tr style=\"text-align: right;\">\n",
              "      <th></th>\n",
              "      <th>playerID</th>\n",
              "      <th>yearID</th>\n",
              "      <th>votedBy</th>\n",
              "      <th>ballots</th>\n",
              "      <th>needed</th>\n",
              "      <th>votes</th>\n",
              "      <th>inducted</th>\n",
              "      <th>category</th>\n",
              "      <th>needed_note</th>\n",
              "    </tr>\n",
              "  </thead>\n",
              "  <tbody>\n",
              "    <tr>\n",
              "      <th>0</th>\n",
              "      <td>cobbty01</td>\n",
              "      <td>1936</td>\n",
              "      <td>BBWAA</td>\n",
              "      <td>226.0</td>\n",
              "      <td>170.0</td>\n",
              "      <td>222.0</td>\n",
              "      <td>Y</td>\n",
              "      <td>Player</td>\n",
              "      <td>NaN</td>\n",
              "    </tr>\n",
              "    <tr>\n",
              "      <th>1</th>\n",
              "      <td>ruthba01</td>\n",
              "      <td>1936</td>\n",
              "      <td>BBWAA</td>\n",
              "      <td>226.0</td>\n",
              "      <td>170.0</td>\n",
              "      <td>215.0</td>\n",
              "      <td>Y</td>\n",
              "      <td>Player</td>\n",
              "      <td>NaN</td>\n",
              "    </tr>\n",
              "    <tr>\n",
              "      <th>2</th>\n",
              "      <td>wagneho01</td>\n",
              "      <td>1936</td>\n",
              "      <td>BBWAA</td>\n",
              "      <td>226.0</td>\n",
              "      <td>170.0</td>\n",
              "      <td>215.0</td>\n",
              "      <td>Y</td>\n",
              "      <td>Player</td>\n",
              "      <td>NaN</td>\n",
              "    </tr>\n",
              "    <tr>\n",
              "      <th>3</th>\n",
              "      <td>mathech01</td>\n",
              "      <td>1936</td>\n",
              "      <td>BBWAA</td>\n",
              "      <td>226.0</td>\n",
              "      <td>170.0</td>\n",
              "      <td>205.0</td>\n",
              "      <td>Y</td>\n",
              "      <td>Player</td>\n",
              "      <td>NaN</td>\n",
              "    </tr>\n",
              "    <tr>\n",
              "      <th>4</th>\n",
              "      <td>johnswa01</td>\n",
              "      <td>1936</td>\n",
              "      <td>BBWAA</td>\n",
              "      <td>226.0</td>\n",
              "      <td>170.0</td>\n",
              "      <td>189.0</td>\n",
              "      <td>Y</td>\n",
              "      <td>Player</td>\n",
              "      <td>NaN</td>\n",
              "    </tr>\n",
              "  </tbody>\n",
              "</table>\n",
              "</div>"
            ],
            "text/plain": [
              "    playerID  yearID votedBy  ballots  ...  votes  inducted category needed_note\n",
              "0   cobbty01    1936   BBWAA    226.0  ...  222.0         Y   Player         NaN\n",
              "1   ruthba01    1936   BBWAA    226.0  ...  215.0         Y   Player         NaN\n",
              "2  wagneho01    1936   BBWAA    226.0  ...  215.0         Y   Player         NaN\n",
              "3  mathech01    1936   BBWAA    226.0  ...  205.0         Y   Player         NaN\n",
              "4  johnswa01    1936   BBWAA    226.0  ...  189.0         Y   Player         NaN\n",
              "\n",
              "[5 rows x 9 columns]"
            ]
          },
          "metadata": {
            "tags": []
          },
          "execution_count": 7
        }
      ]
    },
    {
      "cell_type": "code",
      "metadata": {
        "id": "HIMzwYJ6n-nH",
        "colab_type": "code",
        "colab": {
          "base_uri": "https://localhost:8080/",
          "height": 194
        },
        "outputId": "e7a60b6d-12e6-4168-c7b3-076c79dba5db"
      },
      "source": [
        "#Convert a variable to categorical\n",
        "\n",
        "df['category'] = df['category'].astype('category')\n",
        "\n",
        "df.dtypes"
      ],
      "execution_count": 9,
      "outputs": [
        {
          "output_type": "execute_result",
          "data": {
            "text/plain": [
              "playerID         object\n",
              "yearID            int64\n",
              "votedBy          object\n",
              "ballots         float64\n",
              "needed          float64\n",
              "votes           float64\n",
              "inducted         object\n",
              "category       category\n",
              "needed_note      object\n",
              "dtype: object"
            ]
          },
          "metadata": {
            "tags": []
          },
          "execution_count": 9
        }
      ]
    },
    {
      "cell_type": "code",
      "metadata": {
        "id": "CB-laCRZo-OK",
        "colab_type": "code",
        "colab": {
          "base_uri": "https://localhost:8080/",
          "height": 194
        },
        "outputId": "af639686-3e44-4bea-b00c-7b7f6bd337f8"
      },
      "source": [
        "#Convert a variable to a string\n",
        "\n",
        "df['yearID'] = df['yearID'].astype(str)\n",
        "\n",
        "df.dtypes"
      ],
      "execution_count": 10,
      "outputs": [
        {
          "output_type": "execute_result",
          "data": {
            "text/plain": [
              "playerID         object\n",
              "yearID           object\n",
              "votedBy          object\n",
              "ballots         float64\n",
              "needed          float64\n",
              "votes           float64\n",
              "inducted         object\n",
              "category       category\n",
              "needed_note      object\n",
              "dtype: object"
            ]
          },
          "metadata": {
            "tags": []
          },
          "execution_count": 10
        }
      ]
    }
  ]
}