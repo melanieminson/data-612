{
  "nbformat": 4,
  "nbformat_minor": 0,
  "metadata": {
    "colab": {
      "name": "Assignment01.ipynb",
      "provenance": [],
      "collapsed_sections": [],
      "toc_visible": true,
      "include_colab_link": true
    },
    "kernelspec": {
      "name": "python3",
      "display_name": "Python 3"
    }
  },
  "cells": [
    {
      "cell_type": "markdown",
      "metadata": {
        "id": "view-in-github",
        "colab_type": "text"
      },
      "source": [
        "<a href=\"https://colab.research.google.com/github/melanieminson/data-612/blob/master/Assignment01.ipynb\" target=\"_parent\"><img src=\"https://colab.research.google.com/assets/colab-badge.svg\" alt=\"Open In Colab\"/></a>"
      ]
    },
    {
      "cell_type": "markdown",
      "metadata": {
        "id": "AfEUM8RW3Njt",
        "colab_type": "text"
      },
      "source": [
        "# Assignment for Week 1    \n"
      ]
    },
    {
      "cell_type": "markdown",
      "metadata": {
        "id": "uXfHJZ0D3K8p",
        "colab_type": "text"
      },
      "source": [
        "## Purpose:      \n",
        "This assignment is intended to help you do the following:       \n",
        "1.\tOpen a GitHub account for your own use and for your career advancement (if you already do not have one).     \n",
        "2.\tSubmit information and code in GitHub following best practices from the Udacity course.     \n",
        "3.\tExplore a dataset thoroughly.      \n",
        "4.\tFind and print descriptive information from the dataset.        \n"
      ]
    },
    {
      "cell_type": "markdown",
      "metadata": {
        "id": "DpWCrf_Q4OV3",
        "colab_type": "text"
      },
      "source": [
        "## Action Items:           \n",
        "Open a GitHub account to submit your work. If you are new to GitHub, follow the videos and instructions on the following link to understand how to post things on GitHub and start your own account. https://blog.udacity.com/2015/06/a-beginners-git-github-tutorial.html and/or https://guides.github.com/activities/hello-world/     \n",
        "\n",
        "1.   Select the dataset of your choice from the list \n",
        "provided <a href=\"https://github.com/frankData612/data_612\">here.</a>   \n",
        "2.   Load the dataset using Jupyter notebook and explore the data by using the following.\n",
        "\n",
        "\n",
        "-\tShow the .head() and .tail() of the data set. Specify the number of rows to print using .head() and .tail().      \n",
        "-\tPrint the column names.      \n",
        "-\tPrint to see what is the type of your data set    \n",
        "-\tCheck number of rows and columns.\n",
        "-\tUse groupby() and find the mean on your selected colum/s.\n",
        "-\tAdd a README file in GitHub where you explain everything you did.\n"
      ]
    }
  ]
}