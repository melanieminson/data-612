{
  "nbformat": 4,
  "nbformat_minor": 0,
  "metadata": {
    "colab": {
      "name": "Assignment01.ipynb",
      "provenance": [],
      "collapsed_sections": [],
      "toc_visible": true,
      "include_colab_link": true
    },
    "kernelspec": {
      "name": "python3",
      "display_name": "Python 3"
    }
  },
  "cells": [
    {
      "cell_type": "markdown",
      "metadata": {
        "id": "view-in-github",
        "colab_type": "text"
      },
      "source": [
        "<a href=\"https://colab.research.google.com/github/melanieminson/data-612/blob/master/Assignment01.ipynb\" target=\"_parent\"><img src=\"https://colab.research.google.com/assets/colab-badge.svg\" alt=\"Open In Colab\"/></a>"
      ]
    },
    {
      "cell_type": "markdown",
      "metadata": {
        "id": "AfEUM8RW3Njt",
        "colab_type": "text"
      },
      "source": [
        "# Assignment for Week 1    \n"
      ]
    },
    {
      "cell_type": "markdown",
      "metadata": {
        "id": "uXfHJZ0D3K8p",
        "colab_type": "text"
      },
      "source": [
        "## Purpose:      \n",
        "This assignment is intended to help you do the following:       \n",
        "1.\tOpen a GitHub account for your own use and for your career advancement (if you already do not have one).     \n",
        "2.\tSubmit information and code in GitHub following best practices from the Udacity course.     \n",
        "3.\tExplore a dataset thoroughly.      \n",
        "4.\tFind and print descriptive information from the dataset.        \n"
      ]
    },
    {
      "cell_type": "markdown",
      "metadata": {
        "id": "DpWCrf_Q4OV3",
        "colab_type": "text"
      },
      "source": [
        "## Action Items:           \n",
        "Open a GitHub account to submit your work. If you are new to GitHub, follow the videos and instructions on the following link to understand how to post things on GitHub and start your own account. https://blog.udacity.com/2015/06/a-beginners-git-github-tutorial.html and/or https://guides.github.com/activities/hello-world/     \n",
        "\n",
        "1.   Select the dataset of your choice from the list \n",
        "provided <a href=\"https://github.com/frankData612/data_612\">here.</a>   \n",
        "2.   Load the dataset using Jupyter notebook and explore the data by using the following.\n",
        "\n",
        "\n",
        "-\tShow the .head() and .tail() of the data set. Specify the number of rows to print using .head() and .tail().      \n",
        "-\tPrint the column names.      \n",
        "-\tPrint to see what is the type of your data set    \n",
        "-\tCheck number of rows and columns.\n",
        "-\tUse groupby() and find the mean on your selected colum/s.\n",
        "-\tAdd a README file in GitHub where you explain everything you did.\n"
      ]
    },
    {
      "cell_type": "code",
      "metadata": {
        "id": "SDZaSsk7seM5",
        "colab_type": "code",
        "colab": {
          "base_uri": "https://localhost:8080/",
          "height": 197
        },
        "outputId": "b071c387-6ef8-4ee5-eb27-5da1e6a2c6c9"
      },
      "source": [
        "import pandas as pd\n",
        "\n",
        "df = pd.read_csv('https://raw.githubusercontent.com/frankData612/data_612/master/baseballdatabank-master/core/AllstarFull.csv')\n",
        "\n",
        "df.head()"
      ],
      "execution_count": 8,
      "outputs": [
        {
          "output_type": "execute_result",
          "data": {
            "text/html": [
              "<div>\n",
              "<style scoped>\n",
              "    .dataframe tbody tr th:only-of-type {\n",
              "        vertical-align: middle;\n",
              "    }\n",
              "\n",
              "    .dataframe tbody tr th {\n",
              "        vertical-align: top;\n",
              "    }\n",
              "\n",
              "    .dataframe thead th {\n",
              "        text-align: right;\n",
              "    }\n",
              "</style>\n",
              "<table border=\"1\" class=\"dataframe\">\n",
              "  <thead>\n",
              "    <tr style=\"text-align: right;\">\n",
              "      <th></th>\n",
              "      <th>playerID</th>\n",
              "      <th>yearID</th>\n",
              "      <th>gameNum</th>\n",
              "      <th>gameID</th>\n",
              "      <th>teamID</th>\n",
              "      <th>lgID</th>\n",
              "      <th>GP</th>\n",
              "      <th>startingPos</th>\n",
              "    </tr>\n",
              "  </thead>\n",
              "  <tbody>\n",
              "    <tr>\n",
              "      <th>0</th>\n",
              "      <td>gomezle01</td>\n",
              "      <td>1933.0</td>\n",
              "      <td>0.0</td>\n",
              "      <td>ALS193307060</td>\n",
              "      <td>NYA</td>\n",
              "      <td>AL</td>\n",
              "      <td>1</td>\n",
              "      <td>1.0</td>\n",
              "    </tr>\n",
              "    <tr>\n",
              "      <th>1</th>\n",
              "      <td>ferreri01</td>\n",
              "      <td>1933.0</td>\n",
              "      <td>0.0</td>\n",
              "      <td>ALS193307060</td>\n",
              "      <td>BOS</td>\n",
              "      <td>AL</td>\n",
              "      <td>1</td>\n",
              "      <td>2.0</td>\n",
              "    </tr>\n",
              "    <tr>\n",
              "      <th>2</th>\n",
              "      <td>gehrilo01</td>\n",
              "      <td>1933.0</td>\n",
              "      <td>0.0</td>\n",
              "      <td>ALS193307060</td>\n",
              "      <td>NYA</td>\n",
              "      <td>AL</td>\n",
              "      <td>1</td>\n",
              "      <td>3.0</td>\n",
              "    </tr>\n",
              "    <tr>\n",
              "      <th>3</th>\n",
              "      <td>gehrich01</td>\n",
              "      <td>1933.0</td>\n",
              "      <td>0.0</td>\n",
              "      <td>ALS193307060</td>\n",
              "      <td>DET</td>\n",
              "      <td>AL</td>\n",
              "      <td>1</td>\n",
              "      <td>4.0</td>\n",
              "    </tr>\n",
              "    <tr>\n",
              "      <th>4</th>\n",
              "      <td>dykesji01</td>\n",
              "      <td>1933.0</td>\n",
              "      <td>0.0</td>\n",
              "      <td>ALS193307060</td>\n",
              "      <td>CHA</td>\n",
              "      <td>AL</td>\n",
              "      <td>1</td>\n",
              "      <td>5.0</td>\n",
              "    </tr>\n",
              "  </tbody>\n",
              "</table>\n",
              "</div>"
            ],
            "text/plain": [
              "    playerID  yearID  gameNum        gameID teamID lgID  GP  startingPos\n",
              "0  gomezle01  1933.0      0.0  ALS193307060    NYA   AL   1          1.0\n",
              "1  ferreri01  1933.0      0.0  ALS193307060    BOS   AL   1          2.0\n",
              "2  gehrilo01  1933.0      0.0  ALS193307060    NYA   AL   1          3.0\n",
              "3  gehrich01  1933.0      0.0  ALS193307060    DET   AL   1          4.0\n",
              "4  dykesji01  1933.0      0.0  ALS193307060    CHA   AL   1          5.0"
            ]
          },
          "metadata": {
            "tags": []
          },
          "execution_count": 8
        }
      ]
    },
    {
      "cell_type": "code",
      "metadata": {
        "id": "xex54Z07uSaA",
        "colab_type": "code",
        "colab": {
          "base_uri": "https://localhost:8080/",
          "height": 197
        },
        "outputId": "05613139-6b74-4b45-bd56-7c1e38de1f21"
      },
      "source": [
        "df.tail()"
      ],
      "execution_count": 9,
      "outputs": [
        {
          "output_type": "execute_result",
          "data": {
            "text/html": [
              "<div>\n",
              "<style scoped>\n",
              "    .dataframe tbody tr th:only-of-type {\n",
              "        vertical-align: middle;\n",
              "    }\n",
              "\n",
              "    .dataframe tbody tr th {\n",
              "        vertical-align: top;\n",
              "    }\n",
              "\n",
              "    .dataframe thead th {\n",
              "        text-align: right;\n",
              "    }\n",
              "</style>\n",
              "<table border=\"1\" class=\"dataframe\">\n",
              "  <thead>\n",
              "    <tr style=\"text-align: right;\">\n",
              "      <th></th>\n",
              "      <th>playerID</th>\n",
              "      <th>yearID</th>\n",
              "      <th>gameNum</th>\n",
              "      <th>gameID</th>\n",
              "      <th>teamID</th>\n",
              "      <th>lgID</th>\n",
              "      <th>GP</th>\n",
              "      <th>startingPos</th>\n",
              "    </tr>\n",
              "  </thead>\n",
              "  <tbody>\n",
              "    <tr>\n",
              "      <th>5370</th>\n",
              "      <td>sorokmi01</td>\n",
              "      <td>2019.0</td>\n",
              "      <td>0.0</td>\n",
              "      <td>ALS201907090</td>\n",
              "      <td>ATL</td>\n",
              "      <td>NL</td>\n",
              "      <td>1</td>\n",
              "      <td>NaN</td>\n",
              "    </tr>\n",
              "    <tr>\n",
              "      <th>5371</th>\n",
              "      <td>storytr01</td>\n",
              "      <td>2019.0</td>\n",
              "      <td>0.0</td>\n",
              "      <td>ALS201907090</td>\n",
              "      <td>COL</td>\n",
              "      <td>NL</td>\n",
              "      <td>1</td>\n",
              "      <td>NaN</td>\n",
              "    </tr>\n",
              "    <tr>\n",
              "      <th>5372</th>\n",
              "      <td>woodrbr01</td>\n",
              "      <td>2019.0</td>\n",
              "      <td>0.0</td>\n",
              "      <td>ALS201907090</td>\n",
              "      <td>MIL</td>\n",
              "      <td>NL</td>\n",
              "      <td>1</td>\n",
              "      <td>NaN</td>\n",
              "    </tr>\n",
              "    <tr>\n",
              "      <th>5373</th>\n",
              "      <td>yateski01</td>\n",
              "      <td>2019.0</td>\n",
              "      <td>0.0</td>\n",
              "      <td>ALS201907090</td>\n",
              "      <td>SDN</td>\n",
              "      <td>NL</td>\n",
              "      <td>0</td>\n",
              "      <td>NaN</td>\n",
              "    </tr>\n",
              "    <tr>\n",
              "      <th>5374</th>\n",
              "      <td>bailean01</td>\n",
              "      <td>NaN</td>\n",
              "      <td>NaN</td>\n",
              "      <td>NaN</td>\n",
              "      <td>OAK</td>\n",
              "      <td>AL</td>\n",
              "      <td>0</td>\n",
              "      <td>NaN</td>\n",
              "    </tr>\n",
              "  </tbody>\n",
              "</table>\n",
              "</div>"
            ],
            "text/plain": [
              "       playerID  yearID  gameNum        gameID teamID lgID  GP  startingPos\n",
              "5370  sorokmi01  2019.0      0.0  ALS201907090    ATL   NL   1          NaN\n",
              "5371  storytr01  2019.0      0.0  ALS201907090    COL   NL   1          NaN\n",
              "5372  woodrbr01  2019.0      0.0  ALS201907090    MIL   NL   1          NaN\n",
              "5373  yateski01  2019.0      0.0  ALS201907090    SDN   NL   0          NaN\n",
              "5374  bailean01     NaN      NaN           NaN    OAK   AL   0          NaN"
            ]
          },
          "metadata": {
            "tags": []
          },
          "execution_count": 9
        }
      ]
    },
    {
      "cell_type": "code",
      "metadata": {
        "id": "-u8i_CpsuWh4",
        "colab_type": "code",
        "colab": {
          "base_uri": "https://localhost:8080/",
          "height": 137
        },
        "outputId": "5745ffce-dbab-4a0c-9592-c9b25108455f"
      },
      "source": [
        "df.head(3)"
      ],
      "execution_count": 10,
      "outputs": [
        {
          "output_type": "execute_result",
          "data": {
            "text/html": [
              "<div>\n",
              "<style scoped>\n",
              "    .dataframe tbody tr th:only-of-type {\n",
              "        vertical-align: middle;\n",
              "    }\n",
              "\n",
              "    .dataframe tbody tr th {\n",
              "        vertical-align: top;\n",
              "    }\n",
              "\n",
              "    .dataframe thead th {\n",
              "        text-align: right;\n",
              "    }\n",
              "</style>\n",
              "<table border=\"1\" class=\"dataframe\">\n",
              "  <thead>\n",
              "    <tr style=\"text-align: right;\">\n",
              "      <th></th>\n",
              "      <th>playerID</th>\n",
              "      <th>yearID</th>\n",
              "      <th>gameNum</th>\n",
              "      <th>gameID</th>\n",
              "      <th>teamID</th>\n",
              "      <th>lgID</th>\n",
              "      <th>GP</th>\n",
              "      <th>startingPos</th>\n",
              "    </tr>\n",
              "  </thead>\n",
              "  <tbody>\n",
              "    <tr>\n",
              "      <th>0</th>\n",
              "      <td>gomezle01</td>\n",
              "      <td>1933.0</td>\n",
              "      <td>0.0</td>\n",
              "      <td>ALS193307060</td>\n",
              "      <td>NYA</td>\n",
              "      <td>AL</td>\n",
              "      <td>1</td>\n",
              "      <td>1.0</td>\n",
              "    </tr>\n",
              "    <tr>\n",
              "      <th>1</th>\n",
              "      <td>ferreri01</td>\n",
              "      <td>1933.0</td>\n",
              "      <td>0.0</td>\n",
              "      <td>ALS193307060</td>\n",
              "      <td>BOS</td>\n",
              "      <td>AL</td>\n",
              "      <td>1</td>\n",
              "      <td>2.0</td>\n",
              "    </tr>\n",
              "    <tr>\n",
              "      <th>2</th>\n",
              "      <td>gehrilo01</td>\n",
              "      <td>1933.0</td>\n",
              "      <td>0.0</td>\n",
              "      <td>ALS193307060</td>\n",
              "      <td>NYA</td>\n",
              "      <td>AL</td>\n",
              "      <td>1</td>\n",
              "      <td>3.0</td>\n",
              "    </tr>\n",
              "  </tbody>\n",
              "</table>\n",
              "</div>"
            ],
            "text/plain": [
              "    playerID  yearID  gameNum        gameID teamID lgID  GP  startingPos\n",
              "0  gomezle01  1933.0      0.0  ALS193307060    NYA   AL   1          1.0\n",
              "1  ferreri01  1933.0      0.0  ALS193307060    BOS   AL   1          2.0\n",
              "2  gehrilo01  1933.0      0.0  ALS193307060    NYA   AL   1          3.0"
            ]
          },
          "metadata": {
            "tags": []
          },
          "execution_count": 10
        }
      ]
    },
    {
      "cell_type": "code",
      "metadata": {
        "id": "BTKm2yIuuZiE",
        "colab_type": "code",
        "colab": {
          "base_uri": "https://localhost:8080/",
          "height": 287
        },
        "outputId": "35199ec8-61f6-4165-87ba-77d22ea7624b"
      },
      "source": [
        "df.tail(8)"
      ],
      "execution_count": 11,
      "outputs": [
        {
          "output_type": "execute_result",
          "data": {
            "text/html": [
              "<div>\n",
              "<style scoped>\n",
              "    .dataframe tbody tr th:only-of-type {\n",
              "        vertical-align: middle;\n",
              "    }\n",
              "\n",
              "    .dataframe tbody tr th {\n",
              "        vertical-align: top;\n",
              "    }\n",
              "\n",
              "    .dataframe thead th {\n",
              "        text-align: right;\n",
              "    }\n",
              "</style>\n",
              "<table border=\"1\" class=\"dataframe\">\n",
              "  <thead>\n",
              "    <tr style=\"text-align: right;\">\n",
              "      <th></th>\n",
              "      <th>playerID</th>\n",
              "      <th>yearID</th>\n",
              "      <th>gameNum</th>\n",
              "      <th>gameID</th>\n",
              "      <th>teamID</th>\n",
              "      <th>lgID</th>\n",
              "      <th>GP</th>\n",
              "      <th>startingPos</th>\n",
              "    </tr>\n",
              "  </thead>\n",
              "  <tbody>\n",
              "    <tr>\n",
              "      <th>5367</th>\n",
              "      <td>riverfe01</td>\n",
              "      <td>2019.0</td>\n",
              "      <td>0.0</td>\n",
              "      <td>ALS201907090</td>\n",
              "      <td>PIT</td>\n",
              "      <td>NL</td>\n",
              "      <td>0</td>\n",
              "      <td>NaN</td>\n",
              "    </tr>\n",
              "    <tr>\n",
              "      <th>5368</th>\n",
              "      <td>scherma01</td>\n",
              "      <td>2019.0</td>\n",
              "      <td>0.0</td>\n",
              "      <td>ALS201907090</td>\n",
              "      <td>WSN</td>\n",
              "      <td>NL</td>\n",
              "      <td>0</td>\n",
              "      <td>NaN</td>\n",
              "    </tr>\n",
              "    <tr>\n",
              "      <th>5369</th>\n",
              "      <td>smithwi04</td>\n",
              "      <td>2019.0</td>\n",
              "      <td>0.0</td>\n",
              "      <td>ALS201907090</td>\n",
              "      <td>SFN</td>\n",
              "      <td>NL</td>\n",
              "      <td>1</td>\n",
              "      <td>NaN</td>\n",
              "    </tr>\n",
              "    <tr>\n",
              "      <th>5370</th>\n",
              "      <td>sorokmi01</td>\n",
              "      <td>2019.0</td>\n",
              "      <td>0.0</td>\n",
              "      <td>ALS201907090</td>\n",
              "      <td>ATL</td>\n",
              "      <td>NL</td>\n",
              "      <td>1</td>\n",
              "      <td>NaN</td>\n",
              "    </tr>\n",
              "    <tr>\n",
              "      <th>5371</th>\n",
              "      <td>storytr01</td>\n",
              "      <td>2019.0</td>\n",
              "      <td>0.0</td>\n",
              "      <td>ALS201907090</td>\n",
              "      <td>COL</td>\n",
              "      <td>NL</td>\n",
              "      <td>1</td>\n",
              "      <td>NaN</td>\n",
              "    </tr>\n",
              "    <tr>\n",
              "      <th>5372</th>\n",
              "      <td>woodrbr01</td>\n",
              "      <td>2019.0</td>\n",
              "      <td>0.0</td>\n",
              "      <td>ALS201907090</td>\n",
              "      <td>MIL</td>\n",
              "      <td>NL</td>\n",
              "      <td>1</td>\n",
              "      <td>NaN</td>\n",
              "    </tr>\n",
              "    <tr>\n",
              "      <th>5373</th>\n",
              "      <td>yateski01</td>\n",
              "      <td>2019.0</td>\n",
              "      <td>0.0</td>\n",
              "      <td>ALS201907090</td>\n",
              "      <td>SDN</td>\n",
              "      <td>NL</td>\n",
              "      <td>0</td>\n",
              "      <td>NaN</td>\n",
              "    </tr>\n",
              "    <tr>\n",
              "      <th>5374</th>\n",
              "      <td>bailean01</td>\n",
              "      <td>NaN</td>\n",
              "      <td>NaN</td>\n",
              "      <td>NaN</td>\n",
              "      <td>OAK</td>\n",
              "      <td>AL</td>\n",
              "      <td>0</td>\n",
              "      <td>NaN</td>\n",
              "    </tr>\n",
              "  </tbody>\n",
              "</table>\n",
              "</div>"
            ],
            "text/plain": [
              "       playerID  yearID  gameNum        gameID teamID lgID  GP  startingPos\n",
              "5367  riverfe01  2019.0      0.0  ALS201907090    PIT   NL   0          NaN\n",
              "5368  scherma01  2019.0      0.0  ALS201907090    WSN   NL   0          NaN\n",
              "5369  smithwi04  2019.0      0.0  ALS201907090    SFN   NL   1          NaN\n",
              "5370  sorokmi01  2019.0      0.0  ALS201907090    ATL   NL   1          NaN\n",
              "5371  storytr01  2019.0      0.0  ALS201907090    COL   NL   1          NaN\n",
              "5372  woodrbr01  2019.0      0.0  ALS201907090    MIL   NL   1          NaN\n",
              "5373  yateski01  2019.0      0.0  ALS201907090    SDN   NL   0          NaN\n",
              "5374  bailean01     NaN      NaN           NaN    OAK   AL   0          NaN"
            ]
          },
          "metadata": {
            "tags": []
          },
          "execution_count": 11
        }
      ]
    },
    {
      "cell_type": "code",
      "metadata": {
        "id": "14MMyU4ouhB4",
        "colab_type": "code",
        "colab": {
          "base_uri": "https://localhost:8080/",
          "height": 70
        },
        "outputId": "3e0e4698-1d4a-40a1-d81c-06012e1cf719"
      },
      "source": [
        "df.columns"
      ],
      "execution_count": 12,
      "outputs": [
        {
          "output_type": "execute_result",
          "data": {
            "text/plain": [
              "Index(['playerID', 'yearID', 'gameNum', 'gameID', 'teamID', 'lgID', 'GP',\n",
              "       'startingPos'],\n",
              "      dtype='object')"
            ]
          },
          "metadata": {
            "tags": []
          },
          "execution_count": 12
        }
      ]
    },
    {
      "cell_type": "code",
      "metadata": {
        "id": "mH-gDLB-uojW",
        "colab_type": "code",
        "colab": {
          "base_uri": "https://localhost:8080/",
          "height": 176
        },
        "outputId": "da56c5be-79af-4a37-cd9e-599ec4b11d06"
      },
      "source": [
        "df.dtypes"
      ],
      "execution_count": 13,
      "outputs": [
        {
          "output_type": "execute_result",
          "data": {
            "text/plain": [
              "playerID        object\n",
              "yearID         float64\n",
              "gameNum        float64\n",
              "gameID          object\n",
              "teamID          object\n",
              "lgID            object\n",
              "GP               int64\n",
              "startingPos    float64\n",
              "dtype: object"
            ]
          },
          "metadata": {
            "tags": []
          },
          "execution_count": 13
        }
      ]
    },
    {
      "cell_type": "code",
      "metadata": {
        "id": "4NnR20Kvury_",
        "colab_type": "code",
        "colab": {
          "base_uri": "https://localhost:8080/",
          "height": 34
        },
        "outputId": "3463ea90-7b6b-4e95-a695-6ceff62741e7"
      },
      "source": [
        "df.shape"
      ],
      "execution_count": 14,
      "outputs": [
        {
          "output_type": "execute_result",
          "data": {
            "text/plain": [
              "(5375, 8)"
            ]
          },
          "metadata": {
            "tags": []
          },
          "execution_count": 14
        }
      ]
    },
    {
      "cell_type": "code",
      "metadata": {
        "id": "nVi_Fhv4u4ke",
        "colab_type": "code",
        "colab": {
          "base_uri": "https://localhost:8080/",
          "height": 247
        },
        "outputId": "05e4e3cc-39af-4656-a0e7-4178fdd6cabc"
      },
      "source": [
        "df.groupby('yearID')['gameNum'].mean()"
      ],
      "execution_count": 16,
      "outputs": [
        {
          "output_type": "execute_result",
          "data": {
            "text/plain": [
              "yearID\n",
              "1933.0    0.0\n",
              "1934.0    0.0\n",
              "1935.0    0.0\n",
              "1936.0    0.0\n",
              "1937.0    0.0\n",
              "         ... \n",
              "2015.0    0.0\n",
              "2016.0    0.0\n",
              "2017.0    0.0\n",
              "2018.0    0.0\n",
              "2019.0    0.0\n",
              "Name: gameNum, Length: 87, dtype: float64"
            ]
          },
          "metadata": {
            "tags": []
          },
          "execution_count": 16
        }
      ]
    }
  ]
}